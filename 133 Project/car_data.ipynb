{
 "metadata": {
  "name": "Untitled2"
 },
 "nbformat": 3,
 "nbformat_minor": 0,
 "worksheets": [
  {
   "cells": [
    {
     "cell_type": "code",
     "collapsed": false,
     "input": [
      "dmv_data=open('dmv1.txt','r')\n",
      "datas = dmv_data.readlines()"
     ],
     "language": "python",
     "metadata": {},
     "outputs": [],
     "prompt_number": 48
    },
    {
     "cell_type": "code",
     "collapsed": false,
     "input": [
      "i=0\n",
      "while datas[i][0] not in '\\n':\n",
      "    i+=1\n",
      "j=i+1\n",
      "i=i+1\n",
      "while datas[i][0] not in '\\n':\n",
      "    i+=1\n",
      "k=i-1\n",
      "print j, k"
     ],
     "language": "python",
     "metadata": {},
     "outputs": [
      {
       "output_type": "stream",
       "stream": "stdout",
       "text": [
        "3 62\n"
       ]
      }
     ],
     "prompt_number": 49
    },
    {
     "cell_type": "code",
     "collapsed": false,
     "input": [
      "car = [line.split('\\t') for line in lines[j:k]]"
     ],
     "language": "python",
     "metadata": {},
     "outputs": [],
     "prompt_number": 54
    },
    {
     "cell_type": "code",
     "collapsed": false,
     "input": [
      "import pandas as pd\n",
      "from pandas import DataFrame"
     ],
     "language": "python",
     "metadata": {},
     "outputs": [],
     "prompt_number": 55
    },
    {
     "cell_type": "code",
     "collapsed": false,
     "input": [
      "title=car[0]\n",
      "car_data=car[1:k]\n",
      "car_data = DataFrame(data=car, columns = title)"
     ],
     "language": "python",
     "metadata": {},
     "outputs": [],
     "prompt_number": 56
    },
    {
     "cell_type": "code",
     "collapsed": false,
     "input": [
      "print car_data"
     ],
     "language": "python",
     "metadata": {},
     "outputs": [
      {
       "output_type": "stream",
       "stream": "stdout",
       "text": [
        "           COUNTIES      AUTOS     TRUCKS    TRLRS      M/C      TOTAL\\n\n",
        "0          COUNTIES      AUTOS     TRUCKS    TRLRS      M/C      TOTAL\\n\n",
        "1           ALAMEDA    974,615    175,467   56,595   31,583  1,238,260\\n\n",
        "2            ALPINE      1,065        513      382       69      2,029\\n\n",
        "3            AMADOR     26,512     14,463    9,589    1,954     52,518\\n\n",
        "4             BUTTE    119,102     51,380   41,191    7,150    218,823\\n\n",
        "5         CALAVERAS     34,308     18,739   14,049    2,663     69,759\\n\n",
        "6            COLUSA     11,392      7,725    7,669      452     27,238\\n\n",
        "7      CONTRA COSTA    697,279    139,494   56,886   25,744    919,403\\n\n",
        "8         DEL NORTE     13,626      6,605    5,095      826     26,152\\n\n",
        "9         EL DORADO    121,994     43,956   35,011    8,178    209,139\\n\n",
        "10           FRESNO    444,768    168,499   86,860   18,755    718,882\\n\n",
        "11            GLENN     14,956      9,545    8,408      821     33,730\\n\n",
        "12         HUMBOLDT     74,795     39,887   24,939    4,961    144,582\\n\n",
        "13         IMPERIAL     97,561     40,001   20,069    2,569    160,200\\n\n",
        "14             INYO     13,046      7,520    5,179      939     26,684\\n\n",
        "15             KERN    388,777    183,382   97,316   18,697    688,172\\n\n",
        "16            KINGS     60,524     26,021   13,750    2,998    103,293\\n\n",
        "17             LAKE     43,538     20,986   15,149    2,971     82,644\\n\n",
        "18           LASSEN     15,093      9,909    9,173    1,069     35,244\\n\n",
        "19      LOS ANGELES  5,904,847  1,079,883  283,416  154,108  7,422,254\\n\n",
        "20           MADERA     69,100     32,107   22,649    3,679    127,535\\n\n",
        "21            MARIN    186,858     30,690   10,767    7,220    235,535\\n\n",
        "22         MARIPOSA     13,172      7,630    5,563    1,024     27,389\\n\n",
        "23        MENDOCINO     55,148     30,959   18,989    3,806    108,902\\n\n",
        "24           MERCED    119,924     50,484   26,214    4,785    201,407\\n\n",
        "25            MODOC      4,859      4,071    3,745      229     12,904\\n\n",
        "26             MONO      8,416      4,130    3,122      645     16,313\\n\n",
        "27         MONTEREY    234,835     74,653   32,196    8,052    349,736\\n\n",
        "28             NAPA     87,868     29,297   15,433    3,948    136,546\\n\n",
        "29           NEVADA     67,722     28,363   22,799    5,218    124,102\\n\n",
        "30           ORANGE  1,982,791    384,954  110,758   61,161  2,539,664\\n\n",
        "31           PLACER    249,791     71,723   45,439   12,851    379,804\\n\n",
        "32           PLUMAS     14,473      8,780    7,726      978     31,957\\n\n",
        "33        RIVERSIDE  1,184,178    347,862  147,257   45,490  1,724,787\\n\n",
        "34       SACRAMENTO    814,459    199,890   95,266   32,597  1,142,212\\n\n",
        "35       SAN BENITO     32,645     14,014    7,370    2,024     56,053\\n\n",
        "36   SAN BERNARDINO  1,096,412    332,313  157,683   42,829  1,629,237\\n\n",
        "37        SAN DIEGO  1,971,635    455,292  164,359   81,178  2,672,464\\n\n",
        "38    SAN FRANCISCO    385,442     56,694    7,465   21,697    471,298\\n\n",
        "39      SAN JOAQUIN    362,065    120,473   75,579   14,434    572,551\\n\n",
        "40  SAN LUIS OBISPO    169,571     62,717   40,572   11,143    284,003\\n\n",
        "41        SAN MATEO    560,551     87,032   20,158   16,399    684,140\\n\n",
        "42    SANTA BARBARA    248,404     75,633   30,258   12,362    366,657\\n\n",
        "43      SANTA CLARA  1,237,223    192,836   60,753   38,539  1,529,351\\n\n",
        "44       SANTA CRUZ    163,687     49,016   18,485    9,807    240,995\\n\n",
        "45           SHASTA    103,503     49,642   46,285    7,980    207,410\\n\n",
        "46           SIERRA      2,459      1,519    1,132      162      5,272\\n\n",
        "47         SISKIYOU     29,092     17,485   14,441    1,927     62,945\\n\n",
        "48           SOLANO    253,989     68,276   33,254   12,450    367,969\\n\n",
        "49           SONOMA    311,845    104,664   50,579   17,277    484,365\\n\n",
        "50       STANISLAUS    265,347    102,349   59,522   11,958    439,176\\n\n",
        "51           SUTTER     50,123     22,111   16,931    2,321     91,486\\n\n",
        "52           TEHAMA     31,025     18,196   16,134    1,993     67,348\\n\n",
        "53          TRINITY      8,524      5,838    4,875      715     19,952\\n\n",
        "54           TULARE    199,158     92,915   47,148    8,686    347,907\\n\n",
        "55         TUOLUMNE     37,048     19,458   13,149    2,979     72,634\\n\n",
        "56          VENTURA    541,043    136,335   49,520   24,167    751,065\\n\n",
        "57             YOLO    105,577     34,349   23,481    4,263    167,670\\n\n",
        "58             YUBA     35,475     15,234   11,525    2,078     64,312\\n\n"
       ]
      }
     ],
     "prompt_number": 57
    },
    {
     "cell_type": "code",
     "collapsed": false,
     "input": [],
     "language": "python",
     "metadata": {},
     "outputs": []
    }
   ],
   "metadata": {}
  }
 ]
}